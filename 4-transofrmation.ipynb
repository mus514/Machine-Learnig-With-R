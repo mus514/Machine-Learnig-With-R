{
 "cells": [
  {
   "cell_type": "code",
   "execution_count": 15,
   "metadata": {
    "vscode": {
     "languageId": "r"
    }
   },
   "outputs": [],
   "source": [
    "library(nycflights13)\n",
    "library(tidyverse)"
   ]
  },
  {
   "cell_type": "code",
   "execution_count": 29,
   "metadata": {
    "vscode": {
     "languageId": "r"
    }
   },
   "outputs": [
    {
     "name": "stdout",
     "output_type": "stream",
     "text": [
      "\u001b[90m# A tibble: 336,776 × 19\u001b[39m\n",
      "    year month   day dep_time sched_dep_time dep_delay arr_time sched_arr_time\n",
      "   \u001b[3m\u001b[90m<int>\u001b[39m\u001b[23m \u001b[3m\u001b[90m<int>\u001b[39m\u001b[23m \u001b[3m\u001b[90m<int>\u001b[39m\u001b[23m    \u001b[3m\u001b[90m<int>\u001b[39m\u001b[23m          \u001b[3m\u001b[90m<int>\u001b[39m\u001b[23m     \u001b[3m\u001b[90m<dbl>\u001b[39m\u001b[23m    \u001b[3m\u001b[90m<int>\u001b[39m\u001b[23m          \u001b[3m\u001b[90m<int>\u001b[39m\u001b[23m\n",
      "\u001b[90m 1\u001b[39m  \u001b[4m2\u001b[24m013     1     1      517            515         2      830            819\n",
      "\u001b[90m 2\u001b[39m  \u001b[4m2\u001b[24m013     1     1      533            529         4      850            830\n",
      "\u001b[90m 3\u001b[39m  \u001b[4m2\u001b[24m013     1     1      542            540         2      923            850\n",
      "\u001b[90m 4\u001b[39m  \u001b[4m2\u001b[24m013     1     1      544            545        -\u001b[31m1\u001b[39m     \u001b[4m1\u001b[24m004           \u001b[4m1\u001b[24m022\n",
      "\u001b[90m 5\u001b[39m  \u001b[4m2\u001b[24m013     1     1      554            600        -\u001b[31m6\u001b[39m      812            837\n",
      "\u001b[90m 6\u001b[39m  \u001b[4m2\u001b[24m013     1     1      554            558        -\u001b[31m4\u001b[39m      740            728\n",
      "\u001b[90m 7\u001b[39m  \u001b[4m2\u001b[24m013     1     1      555            600        -\u001b[31m5\u001b[39m      913            854\n",
      "\u001b[90m 8\u001b[39m  \u001b[4m2\u001b[24m013     1     1      557            600        -\u001b[31m3\u001b[39m      709            723\n",
      "\u001b[90m 9\u001b[39m  \u001b[4m2\u001b[24m013     1     1      557            600        -\u001b[31m3\u001b[39m      838            846\n",
      "\u001b[90m10\u001b[39m  \u001b[4m2\u001b[24m013     1     1      558            600        -\u001b[31m2\u001b[39m      753            745\n",
      "   arr_delay carrier flight tailnum origin dest  air_time distance  hour minute\n",
      "       \u001b[3m\u001b[90m<dbl>\u001b[39m\u001b[23m \u001b[3m\u001b[90m<chr>\u001b[39m\u001b[23m    \u001b[3m\u001b[90m<int>\u001b[39m\u001b[23m \u001b[3m\u001b[90m<chr>\u001b[39m\u001b[23m   \u001b[3m\u001b[90m<chr>\u001b[39m\u001b[23m  \u001b[3m\u001b[90m<chr>\u001b[39m\u001b[23m    \u001b[3m\u001b[90m<dbl>\u001b[39m\u001b[23m    \u001b[3m\u001b[90m<dbl>\u001b[39m\u001b[23m \u001b[3m\u001b[90m<dbl>\u001b[39m\u001b[23m  \u001b[3m\u001b[90m<dbl>\u001b[39m\u001b[23m\n",
      "\u001b[90m 1\u001b[39m        11 UA        \u001b[4m1\u001b[24m545 N14228  EWR    IAH        227     \u001b[4m1\u001b[24m400     5     15\n",
      "\u001b[90m 2\u001b[39m        20 UA        \u001b[4m1\u001b[24m714 N24211  LGA    IAH        227     \u001b[4m1\u001b[24m416     5     29\n",
      "\u001b[90m 3\u001b[39m        33 AA        \u001b[4m1\u001b[24m141 N619AA  JFK    MIA        160     \u001b[4m1\u001b[24m089     5     40\n",
      "\u001b[90m 4\u001b[39m       -\u001b[31m18\u001b[39m B6         725 N804JB  JFK    BQN        183     \u001b[4m1\u001b[24m576     5     45\n",
      "\u001b[90m 5\u001b[39m       -\u001b[31m25\u001b[39m DL         461 N668DN  LGA    ATL        116      762     6      0\n",
      "\u001b[90m 6\u001b[39m        12 UA        \u001b[4m1\u001b[24m696 N39463  EWR    ORD        150      719     5     58\n",
      "\u001b[90m 7\u001b[39m        19 B6         507 N516JB  EWR    FLL        158     \u001b[4m1\u001b[24m065     6      0\n",
      "\u001b[90m 8\u001b[39m       -\u001b[31m14\u001b[39m EV        \u001b[4m5\u001b[24m708 N829AS  LGA    IAD         53      229     6      0\n",
      "\u001b[90m 9\u001b[39m        -\u001b[31m8\u001b[39m B6          79 N593JB  JFK    MCO        140      944     6      0\n",
      "\u001b[90m10\u001b[39m         8 AA         301 N3ALAA  LGA    ORD        138      733     6      0\n",
      "   time_hour          \n",
      "   \u001b[3m\u001b[90m<dttm>\u001b[39m\u001b[23m             \n",
      "\u001b[90m 1\u001b[39m 2013-01-01 \u001b[90m05:00:00\u001b[39m\n",
      "\u001b[90m 2\u001b[39m 2013-01-01 \u001b[90m05:00:00\u001b[39m\n",
      "\u001b[90m 3\u001b[39m 2013-01-01 \u001b[90m05:00:00\u001b[39m\n",
      "\u001b[90m 4\u001b[39m 2013-01-01 \u001b[90m05:00:00\u001b[39m\n",
      "\u001b[90m 5\u001b[39m 2013-01-01 \u001b[90m06:00:00\u001b[39m\n",
      "\u001b[90m 6\u001b[39m 2013-01-01 \u001b[90m05:00:00\u001b[39m\n",
      "\u001b[90m 7\u001b[39m 2013-01-01 \u001b[90m06:00:00\u001b[39m\n",
      "\u001b[90m 8\u001b[39m 2013-01-01 \u001b[90m06:00:00\u001b[39m\n",
      "\u001b[90m 9\u001b[39m 2013-01-01 \u001b[90m06:00:00\u001b[39m\n",
      "\u001b[90m10\u001b[39m 2013-01-01 \u001b[90m06:00:00\u001b[39m\n",
      "\u001b[90m# ℹ 336,766 more rows\u001b[39m\n"
     ]
    }
   ],
   "source": [
    "print(flights, width = Inf)"
   ]
  },
  {
   "cell_type": "markdown",
   "metadata": {},
   "source": [
    "## Tibble\n",
    "\n",
    "Designed for large datasets"
   ]
  },
  {
   "cell_type": "code",
   "execution_count": 23,
   "metadata": {
    "vscode": {
     "languageId": "r"
    }
   },
   "outputs": [],
   "source": [
    "df <- tibble(\n",
    "    a = lubridate::now() + runif(1e3) *3600 * 24,\n",
    "    b = lubridate::today() + runif(1e3) *30,\n",
    "    c = 1:1e3,\n",
    "    d = runif(1e3),\n",
    "    e = sample(letters, 1e3, replace = TRUE))"
   ]
  },
  {
   "cell_type": "code",
   "execution_count": 26,
   "metadata": {
    "vscode": {
     "languageId": "r"
    }
   },
   "outputs": [
    {
     "name": "stdout",
     "output_type": "stream",
     "text": [
      "\u001b[90m# A tibble: 1,000 × 5\u001b[39m\n",
      "   a                   b              c      d e    \n",
      "   \u001b[3m\u001b[90m<dttm>\u001b[39m\u001b[23m              \u001b[3m\u001b[90m<date>\u001b[39m\u001b[23m     \u001b[3m\u001b[90m<int>\u001b[39m\u001b[23m  \u001b[3m\u001b[90m<dbl>\u001b[39m\u001b[23m \u001b[3m\u001b[90m<chr>\u001b[39m\u001b[23m\n",
      "\u001b[90m 1\u001b[39m 2025-01-18 \u001b[90m04:43:35\u001b[39m 2025-01-21     1 0.611  l    \n",
      "\u001b[90m 2\u001b[39m 2025-01-18 \u001b[90m01:28:55\u001b[39m 2025-02-01     2 0.700  i    \n",
      "\u001b[90m 3\u001b[39m 2025-01-17 \u001b[90m21:14:17\u001b[39m 2025-02-14     3 0.796  v    \n",
      "\u001b[90m 4\u001b[39m 2025-01-17 \u001b[90m19:13:01\u001b[39m 2025-02-15     4 0.956  d    \n",
      "\u001b[90m 5\u001b[39m 2025-01-18 \u001b[90m00:37:51\u001b[39m 2025-02-08     5 0.100  q    \n",
      "\u001b[90m 6\u001b[39m 2025-01-18 \u001b[90m08:11:55\u001b[39m 2025-02-06     6 0.502  q    \n",
      "\u001b[90m 7\u001b[39m 2025-01-17 \u001b[90m21:13:27\u001b[39m 2025-01-20     7 0.240  r    \n",
      "\u001b[90m 8\u001b[39m 2025-01-17 \u001b[90m18:34:14\u001b[39m 2025-01-17     8 0.048\u001b[4m8\u001b[24m f    \n",
      "\u001b[90m 9\u001b[39m 2025-01-18 \u001b[90m15:09:01\u001b[39m 2025-02-03     9 0.761  v    \n",
      "\u001b[90m10\u001b[39m 2025-01-18 \u001b[90m09:20:33\u001b[39m 2025-02-15    10 0.083\u001b[4m4\u001b[24m k    \n",
      "\u001b[90m# ℹ 990 more rows\u001b[39m\n"
     ]
    }
   ],
   "source": [
    "print(df, width = Inf)"
   ]
  },
  {
   "cell_type": "code",
   "execution_count": 28,
   "metadata": {
    "vscode": {
     "languageId": "r"
    }
   },
   "outputs": [
    {
     "name": "stdout",
     "output_type": "stream",
     "text": [
      "Rows: 336,776\n",
      "Columns: 19\n",
      "$ year           \u001b[3m\u001b[90m<int>\u001b[39m\u001b[23m 2013, 2013, 2013, 2013, 2013, 2013, 2013, 2013, 2013, 2…\n",
      "$ month          \u001b[3m\u001b[90m<int>\u001b[39m\u001b[23m 1, 1, 1, 1, 1, 1, 1, 1, 1, 1, 1, 1, 1, 1, 1, 1, 1, 1, 1…\n",
      "$ day            \u001b[3m\u001b[90m<int>\u001b[39m\u001b[23m 1, 1, 1, 1, 1, 1, 1, 1, 1, 1, 1, 1, 1, 1, 1, 1, 1, 1, 1…\n",
      "$ dep_time       \u001b[3m\u001b[90m<int>\u001b[39m\u001b[23m 517, 533, 542, 544, 554, 554, 555, 557, 557, 558, 558, …\n",
      "$ sched_dep_time \u001b[3m\u001b[90m<int>\u001b[39m\u001b[23m 515, 529, 540, 545, 600, 558, 600, 600, 600, 600, 600, …\n",
      "$ dep_delay      \u001b[3m\u001b[90m<dbl>\u001b[39m\u001b[23m 2, 4, 2, -1, -6, -4, -5, -3, -3, -2, -2, -2, -2, -2, -1…\n",
      "$ arr_time       \u001b[3m\u001b[90m<int>\u001b[39m\u001b[23m 830, 850, 923, 1004, 812, 740, 913, 709, 838, 753, 849,…\n",
      "$ sched_arr_time \u001b[3m\u001b[90m<int>\u001b[39m\u001b[23m 819, 830, 850, 1022, 837, 728, 854, 723, 846, 745, 851,…\n",
      "$ arr_delay      \u001b[3m\u001b[90m<dbl>\u001b[39m\u001b[23m 11, 20, 33, -18, -25, 12, 19, -14, -8, 8, -2, -3, 7, -1…\n",
      "$ carrier        \u001b[3m\u001b[90m<chr>\u001b[39m\u001b[23m \"UA\", \"UA\", \"AA\", \"B6\", \"DL\", \"UA\", \"B6\", \"EV\", \"B6\", \"…\n",
      "$ flight         \u001b[3m\u001b[90m<int>\u001b[39m\u001b[23m 1545, 1714, 1141, 725, 461, 1696, 507, 5708, 79, 301, 4…\n",
      "$ tailnum        \u001b[3m\u001b[90m<chr>\u001b[39m\u001b[23m \"N14228\", \"N24211\", \"N619AA\", \"N804JB\", \"N668DN\", \"N394…\n",
      "$ origin         \u001b[3m\u001b[90m<chr>\u001b[39m\u001b[23m \"EWR\", \"LGA\", \"JFK\", \"JFK\", \"LGA\", \"EWR\", \"EWR\", \"LGA\",…\n",
      "$ dest           \u001b[3m\u001b[90m<chr>\u001b[39m\u001b[23m \"IAH\", \"IAH\", \"MIA\", \"BQN\", \"ATL\", \"ORD\", \"FLL\", \"IAD\",…\n",
      "$ air_time       \u001b[3m\u001b[90m<dbl>\u001b[39m\u001b[23m 227, 227, 160, 183, 116, 150, 158, 53, 140, 138, 149, 1…\n",
      "$ distance       \u001b[3m\u001b[90m<dbl>\u001b[39m\u001b[23m 1400, 1416, 1089, 1576, 762, 719, 1065, 229, 944, 733, …\n",
      "$ hour           \u001b[3m\u001b[90m<dbl>\u001b[39m\u001b[23m 5, 5, 5, 5, 6, 5, 6, 6, 6, 6, 6, 6, 6, 6, 6, 5, 6, 6, 6…\n",
      "$ minute         \u001b[3m\u001b[90m<dbl>\u001b[39m\u001b[23m 15, 29, 40, 45, 0, 58, 0, 0, 0, 0, 0, 0, 0, 0, 0, 59, 0…\n",
      "$ time_hour      \u001b[3m\u001b[90m<dttm>\u001b[39m\u001b[23m 2013-01-01 05:00:00, 2013-01-01 05:00:00, 2013-01-01 0…\n"
     ]
    }
   ],
   "source": [
    "glimpse(flights)"
   ]
  },
  {
   "cell_type": "markdown",
   "metadata": {},
   "source": [
    "## The pipe\n",
    "\n",
    "We have to read it from the left\n",
    "\n",
    "x |> f(y) -> f(x, y)\n",
    "\n",
    "x |> f(y) |> g(z) -> g(f(x, y), z)"
   ]
  },
  {
   "cell_type": "code",
   "execution_count": 38,
   "metadata": {
    "vscode": {
     "languageId": "r"
    }
   },
   "outputs": [
    {
     "name": "stderr",
     "output_type": "stream",
     "text": [
      "\u001b[1m\u001b[22m`summarise()` has grouped output by 'year', 'month'. You can override using the\n",
      "`.groups` argument.\n"
     ]
    },
    {
     "name": "stdout",
     "output_type": "stream",
     "text": [
      "\u001b[90m# A tibble: 365 × 4\u001b[39m\n",
      "\u001b[90m# Groups:   year, month [12]\u001b[39m\n",
      "    year month   day arr_delay\n",
      "   \u001b[3m\u001b[90m<int>\u001b[39m\u001b[23m \u001b[3m\u001b[90m<int>\u001b[39m\u001b[23m \u001b[3m\u001b[90m<int>\u001b[39m\u001b[23m     \u001b[3m\u001b[90m<dbl>\u001b[39m\u001b[23m\n",
      "\u001b[90m 1\u001b[39m  \u001b[4m2\u001b[24m013     1     1     17.8 \n",
      "\u001b[90m 2\u001b[39m  \u001b[4m2\u001b[24m013     1     2      7   \n",
      "\u001b[90m 3\u001b[39m  \u001b[4m2\u001b[24m013     1     3     18.3 \n",
      "\u001b[90m 4\u001b[39m  \u001b[4m2\u001b[24m013     1     4     -\u001b[31m3\u001b[39m\u001b[31m.\u001b[39m\u001b[31m2\u001b[39m \n",
      "\u001b[90m 5\u001b[39m  \u001b[4m2\u001b[24m013     1     5     20.2 \n",
      "\u001b[90m 6\u001b[39m  \u001b[4m2\u001b[24m013     1     6      9.28\n",
      "\u001b[90m 7\u001b[39m  \u001b[4m2\u001b[24m013     1     7     -\u001b[31m7\u001b[39m\u001b[31m.\u001b[39m\u001b[31m74\u001b[39m\n",
      "\u001b[90m 8\u001b[39m  \u001b[4m2\u001b[24m013     1     8      7.79\n",
      "\u001b[90m 9\u001b[39m  \u001b[4m2\u001b[24m013     1     9     18.1 \n",
      "\u001b[90m10\u001b[39m  \u001b[4m2\u001b[24m013     1    10      6.68\n",
      "\u001b[90m# ℹ 355 more rows\u001b[39m\n"
     ]
    }
   ],
   "source": [
    "x <- flights |> \n",
    "    filter(dest == \"IAH\") |>\n",
    "    group_by(year, month, day) |>\n",
    "    summarise(\n",
    "        arr_delay = mean(arr_delay, na.rm = TRUE)\n",
    "    )\n",
    "\n",
    "print(x)"
   ]
  },
  {
   "cell_type": "code",
   "execution_count": null,
   "metadata": {
    "vscode": {
     "languageId": "r"
    }
   },
   "outputs": [],
   "source": []
  }
 ],
 "metadata": {
  "kernelspec": {
   "display_name": "R",
   "language": "R",
   "name": "ir"
  },
  "language_info": {
   "codemirror_mode": "r",
   "file_extension": ".r",
   "mimetype": "text/x-r-source",
   "name": "R",
   "pygments_lexer": "r",
   "version": "4.4.0"
  }
 },
 "nbformat": 4,
 "nbformat_minor": 2
}
